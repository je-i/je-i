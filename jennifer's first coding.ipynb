{
 "cells": [
  {
   "cell_type": "code",
   "execution_count": 1,
   "id": "3475e8ed-bc90-4fec-b95e-d8cd48b14753",
   "metadata": {},
   "outputs": [
    {
     "data": {
      "text/plain": [
       "'MichaelJackson'"
      ]
     },
     "execution_count": 1,
     "metadata": {},
     "output_type": "execute_result"
    }
   ],
   "source": [
    "# use quotation marks to define strings\n",
    "\"MichaelJackson\""
   ]
  },
  {
   "cell_type": "code",
   "execution_count": 2,
   "id": "4ea2f6cd-ec1f-4cfd-87ff-ba4d39140ce8",
   "metadata": {},
   "outputs": [
    {
     "data": {
      "text/plain": [
       "'Michael Jackson'"
      ]
     },
     "execution_count": 2,
     "metadata": {},
     "output_type": "execute_result"
    }
   ],
   "source": [
    "'Michael Jackson'"
   ]
  },
  {
   "cell_type": "code",
   "execution_count": 3,
   "id": "07d23c1c-b26a-400c-a659-a8d1a949f28e",
   "metadata": {},
   "outputs": [
    {
     "data": {
      "text/plain": [
       "'1 2 3 4 4'"
      ]
     },
     "execution_count": 3,
     "metadata": {},
     "output_type": "execute_result"
    }
   ],
   "source": [
    "'1 2 3 4 4'"
   ]
  },
  {
   "cell_type": "code",
   "execution_count": 4,
   "id": "e6643cbb-388a-43af-bc14-d4ea85b87c4d",
   "metadata": {},
   "outputs": [
    {
     "data": {
      "text/plain": [
       "'@ 5 j m *'"
      ]
     },
     "execution_count": 4,
     "metadata": {},
     "output_type": "execute_result"
    }
   ],
   "source": [
    "\"@ 5 j m *\""
   ]
  },
  {
   "cell_type": "code",
   "execution_count": 5,
   "id": "3c8cee7e-17ca-462d-908f-7c65fc63a1e9",
   "metadata": {},
   "outputs": [
    {
     "name": "stdout",
     "output_type": "stream",
     "text": [
      "hello\n"
     ]
    }
   ],
   "source": [
    "print(\"hello\")"
   ]
  },
  {
   "cell_type": "markdown",
   "id": "867c9c27-c78e-4360-bd7b-14b528385e82",
   "metadata": {},
   "source": [
    "name=\"Michael Jackson\"\n",
    "name="
   ]
  },
  {
   "cell_type": "code",
   "execution_count": 6,
   "id": "bc7b69ed-3261-49bb-91ce-18a203bfc288",
   "metadata": {},
   "outputs": [],
   "source": [
    "name=\"michael jackson\""
   ]
  },
  {
   "cell_type": "code",
   "execution_count": 7,
   "id": "ad10339d-6ec1-418a-a687-5090a2e41bc9",
   "metadata": {},
   "outputs": [],
   "source": [
    "name= \"Michael Jackson\""
   ]
  },
  {
   "cell_type": "code",
   "execution_count": 8,
   "id": "940173ff-db04-4df8-8397-e9d00dd62ca6",
   "metadata": {},
   "outputs": [
    {
     "ename": "SyntaxError",
     "evalue": "unexpected EOF while parsing (<ipython-input-8-bec64416bfeb>, line 1)",
     "output_type": "error",
     "traceback": [
      "\u001b[0;36m  File \u001b[0;32m\"<ipython-input-8-bec64416bfeb>\"\u001b[0;36m, line \u001b[0;32m1\u001b[0m\n\u001b[0;31m    print(name=([0])\u001b[0m\n\u001b[0m                    ^\u001b[0m\n\u001b[0;31mSyntaxError\u001b[0m\u001b[0;31m:\u001b[0m unexpected EOF while parsing\n"
     ]
    }
   ],
   "source": [
    "print(name=([0])"
   ]
  },
  {
   "cell_type": "code",
   "execution_count": 9,
   "id": "f9a7711d-51b4-4f6f-bd8b-b7da0e618a48",
   "metadata": {},
   "outputs": [
    {
     "ename": "TypeError",
     "evalue": "'name' is an invalid keyword argument for this function",
     "output_type": "error",
     "traceback": [
      "\u001b[0;31m---------------------------------------------------------------------------\u001b[0m",
      "\u001b[0;31mTypeError\u001b[0m                                 Traceback (most recent call last)",
      "\u001b[0;32m<ipython-input-9-ac0d0975b2bb>\u001b[0m in \u001b[0;36m<module>\u001b[0;34m\u001b[0m\n\u001b[0;32m----> 1\u001b[0;31m \u001b[0mprint\u001b[0m\u001b[0;34m(\u001b[0m\u001b[0mname\u001b[0m\u001b[0;34m=\u001b[0m\u001b[0;34m[\u001b[0m\u001b[0;36m0\u001b[0m\u001b[0;34m]\u001b[0m\u001b[0;34m)\u001b[0m\u001b[0;34m\u001b[0m\u001b[0;34m\u001b[0m\u001b[0m\n\u001b[0m",
      "\u001b[0;31mTypeError\u001b[0m: 'name' is an invalid keyword argument for this function"
     ]
    }
   ],
   "source": [
    "print(name=[0])"
   ]
  },
  {
   "cell_type": "code",
   "execution_count": 10,
   "id": "e21e2745-191e-4983-9277-8d13bef61289",
   "metadata": {},
   "outputs": [
    {
     "data": {
      "text/plain": [
       "15"
      ]
     },
     "execution_count": 10,
     "metadata": {},
     "output_type": "execute_result"
    }
   ],
   "source": [
    "len(\"Michael Jackson\")"
   ]
  },
  {
   "cell_type": "code",
   "execution_count": 11,
   "id": "2b2242e7-0f42-46c6-8283-0eaae5d48c49",
   "metadata": {},
   "outputs": [
    {
     "data": {
      "text/plain": [
       "'Michael Jacksonis the best'"
      ]
     },
     "execution_count": 11,
     "metadata": {},
     "output_type": "execute_result"
    }
   ],
   "source": [
    "statement= name+ \"is the best\"\n",
    "statement"
   ]
  },
  {
   "cell_type": "code",
   "execution_count": 12,
   "id": "a997ce0f-09e8-425b-aec6-791769258e0a",
   "metadata": {},
   "outputs": [
    {
     "data": {
      "text/plain": [
       "'Michale JacksonMichale JacksonMichale Jackson'"
      ]
     },
     "execution_count": 12,
     "metadata": {},
     "output_type": "execute_result"
    }
   ],
   "source": [
    "3* \"Michale Jackson\""
   ]
  },
  {
   "cell_type": "code",
   "execution_count": 13,
   "id": "5182c8b0-18cf-449f-9a05-f625e04dfcbe",
   "metadata": {},
   "outputs": [
    {
     "name": "stdout",
     "output_type": "stream",
     "text": [
      "Michal Jacksonis the best\n"
     ]
    }
   ],
   "source": [
    "name=\"Michal Jackson\"\n",
    "print(name+ \"is the best\")"
   ]
  },
  {
   "cell_type": "code",
   "execution_count": 14,
   "id": "4dabe664-c3fb-4633-a5bd-6fbb93a98617",
   "metadata": {},
   "outputs": [
    {
     "ename": "SyntaxError",
     "evalue": "invalid syntax (<ipython-input-14-068905fb8ae3>, line 1)",
     "output_type": "error",
     "traceback": [
      "\u001b[0;36m  File \u001b[0;32m\"<ipython-input-14-068905fb8ae3>\"\u001b[0;36m, line \u001b[0;32m1\u001b[0m\n\u001b[0;31m    name= :Michal Jackson\u001b[0m\n\u001b[0m          ^\u001b[0m\n\u001b[0;31mSyntaxError\u001b[0m\u001b[0;31m:\u001b[0m invalid syntax\n"
     ]
    }
   ],
   "source": [
    "name= :Michal Jackson\n",
    "name + \"is the best\"\n",
    "name"
   ]
  },
  {
   "cell_type": "code",
   "execution_count": 15,
   "id": "45ec4e79-778e-4b1e-bfdf-f1ff7f2950a0",
   "metadata": {},
   "outputs": [
    {
     "data": {
      "text/plain": [
       "'Michael Jackson'"
      ]
     },
     "execution_count": 15,
     "metadata": {},
     "output_type": "execute_result"
    }
   ],
   "source": [
    "name= \"Michael Jackson\"\n",
    "name + \"Michael Jackson\"\n",
    "name"
   ]
  },
  {
   "cell_type": "code",
   "execution_count": 16,
   "id": "cc71c9b8-0f57-4ac3-bf8e-ebc65bec20bd",
   "metadata": {},
   "outputs": [
    {
     "data": {
      "text/plain": [
       "'Michael'"
      ]
     },
     "execution_count": 16,
     "metadata": {},
     "output_type": "execute_result"
    }
   ],
   "source": [
    "name= \"Michael\"\n",
    "name + \"is the best\"\n",
    "name"
   ]
  },
  {
   "cell_type": "code",
   "execution_count": 17,
   "id": "cf4120c9-e1d4-404e-97c0-648512778335",
   "metadata": {},
   "outputs": [
    {
     "name": "stdout",
     "output_type": "stream",
     "text": [
      "Michaelis the best\n"
     ]
    }
   ],
   "source": [
    "name=\"Michael\"\n",
    "print(name + \"is the best\")"
   ]
  },
  {
   "cell_type": "code",
   "execution_count": 18,
   "id": "3c39aa1e-7400-4b50-a6b3-1be4a2e26860",
   "metadata": {},
   "outputs": [
    {
     "name": "stdout",
     "output_type": "stream",
     "text": [
      "Michael Jackson\n",
      " is the best\n"
     ]
    }
   ],
   "source": [
    "print(\"Michael Jackson\\n is the best\")"
   ]
  },
  {
   "cell_type": "code",
   "execution_count": 19,
   "id": "c74742f6-ea82-4483-8837-1f7c2edeca81",
   "metadata": {},
   "outputs": [
    {
     "name": "stdout",
     "output_type": "stream",
     "text": [
      "Michael Jackson\tisthe best\n"
     ]
    }
   ],
   "source": [
    "print(\"Michael Jackson\\tisthe best\")"
   ]
  },
  {
   "cell_type": "code",
   "execution_count": 20,
   "id": "9ae99850-324a-4ceb-83c2-b57cca8cfe40",
   "metadata": {},
   "outputs": [
    {
     "name": "stdout",
     "output_type": "stream",
     "text": [
      "Michael jackson\t is the best\n"
     ]
    }
   ],
   "source": [
    "print(\"Michael jackson\\t is the best\")"
   ]
  },
  {
   "cell_type": "code",
   "execution_count": 21,
   "id": "0133fcd1-fdb4-483a-8e45-690e79299f94",
   "metadata": {},
   "outputs": [
    {
     "name": "stdout",
     "output_type": "stream",
     "text": [
      "Michael Jackson\\t is the best\n"
     ]
    }
   ],
   "source": [
    "print(\"Michael Jackson\\\\t is the best\")"
   ]
  },
  {
   "cell_type": "code",
   "execution_count": 22,
   "id": "9d04b1bc-0c17-42dc-a035-e8581fbd0cda",
   "metadata": {},
   "outputs": [
    {
     "name": "stdout",
     "output_type": "stream",
     "text": [
      "Micheal Jackson \\ is the best\n"
     ]
    }
   ],
   "source": [
    "print(\"Micheal Jackson \\\\ is the best\")"
   ]
  },
  {
   "cell_type": "code",
   "execution_count": 23,
   "id": "0611d3a0-990a-4d86-8cc0-ed516feff0bb",
   "metadata": {},
   "outputs": [
    {
     "name": "stdout",
     "output_type": "stream",
     "text": [
      "Michael Jackson \\ is the best\n"
     ]
    }
   ],
   "source": [
    "print(r\"Michael Jackson \\ is the best\")"
   ]
  },
  {
   "cell_type": "code",
   "execution_count": 24,
   "id": "f046c724-6336-4912-8d96-3def88206a9c",
   "metadata": {},
   "outputs": [
    {
     "name": "stdout",
     "output_type": "stream",
     "text": [
      "before upper:,a\n"
     ]
    }
   ],
   "source": [
    "a=\"Thriller is the sixth studio album\"\n",
    "print(\"before upper:,a\")"
   ]
  },
  {
   "cell_type": "code",
   "execution_count": 25,
   "id": "aea01a74-2a18-4502-8173-f85c3a1d451f",
   "metadata": {},
   "outputs": [
    {
     "name": "stdout",
     "output_type": "stream",
     "text": [
      "before upper:,a\n",
      "after upper: THRILLER IS THE SIXTH STUDIO ALBUM\n"
     ]
    }
   ],
   "source": [
    "a= \"Thriller is the sixth studio album\"\n",
    "print(\"before upper:,a\")\n",
    "b=a.upper()\n",
    "print(\"after upper:\", b)"
   ]
  },
  {
   "cell_type": "code",
   "execution_count": 26,
   "id": "2b8664ab-8ffe-4120-b7c8-46f73617ba3e",
   "metadata": {},
   "outputs": [
    {
     "data": {
      "text/plain": [
       "'Janet Jackson is the best'"
      ]
     },
     "execution_count": 26,
     "metadata": {},
     "output_type": "execute_result"
    }
   ],
   "source": [
    "a = \"Michael Jackson is the best\"\n",
    "b = a.replace('Michael', 'Janet')\n",
    "b"
   ]
  },
  {
   "cell_type": "code",
   "execution_count": 27,
   "id": "125c136b-dc2f-437b-b5a1-e02a8bd37236",
   "metadata": {},
   "outputs": [
    {
     "data": {
      "text/plain": [
       "5"
      ]
     },
     "execution_count": 27,
     "metadata": {},
     "output_type": "execute_result"
    }
   ],
   "source": [
    "name = \"Michael Jackson\"\n",
    "name.find('el')"
   ]
  },
  {
   "cell_type": "code",
   "execution_count": 28,
   "id": "059507d8-2567-4b37-bfc1-52a9e7d23db5",
   "metadata": {},
   "outputs": [
    {
     "data": {
      "text/plain": [
       "8"
      ]
     },
     "execution_count": 28,
     "metadata": {},
     "output_type": "execute_result"
    }
   ],
   "source": [
    "name.find('Jack')"
   ]
  },
  {
   "cell_type": "code",
   "execution_count": 29,
   "id": "fc1fbf3c-6f24-435c-920d-aca05c6688fd",
   "metadata": {},
   "outputs": [],
   "source": [
    "a=\"1\"\n",
    "b=\"2\"\n",
    "c=a+b"
   ]
  },
  {
   "cell_type": "code",
   "execution_count": 30,
   "id": "dfec0225-d1fc-47b8-be56-883bd751be7b",
   "metadata": {},
   "outputs": [
    {
     "name": "stdout",
     "output_type": "stream",
     "text": [
      "12\n"
     ]
    }
   ],
   "source": [
    "a=\"1\"\n",
    "b=\"2\"\n",
    "print(a+b)"
   ]
  },
  {
   "cell_type": "code",
   "execution_count": 31,
   "id": "94a69f4d-f577-4c59-8072-2016ea61e3f6",
   "metadata": {},
   "outputs": [
    {
     "data": {
      "text/plain": [
       "'YOU ARE WRONG'"
      ]
     },
     "execution_count": 31,
     "metadata": {},
     "output_type": "execute_result"
    }
   ],
   "source": [
    "f = \"You are wrong\"\n",
    "f.upper()"
   ]
  },
  {
   "cell_type": "code",
   "execution_count": 32,
   "id": "cc71483d-483d-4470-a5e7-739ffdbbb675",
   "metadata": {},
   "outputs": [
    {
     "data": {
      "text/plain": [
       "95"
      ]
     },
     "execution_count": 32,
     "metadata": {},
     "output_type": "execute_result"
    }
   ],
   "source": [
    "g = \"Mary had a little lamb Little lamb, little lamb Mary had a little lamb \\\n",
    "Its fleece was white as snow And everywhere that Mary went Mary went, Mary went \\\n",
    "Everywhere that Mary went The lamb was sure to go\"\n",
    "g.find(\"snow\")"
   ]
  },
  {
   "cell_type": "code",
   "execution_count": 35,
   "id": "8f7e383c-84c9-40bb-bc9d-5cc5c993ac4c",
   "metadata": {},
   "outputs": [
    {
     "data": {
      "text/plain": [
       "'Bob had a little lamb Little lamb, little lamb Bob had a little lamb Its fleece was white as snow And everywhere that Bob went Bob went, Bob went Everywhere that Bob went The lamb was sure to go'"
      ]
     },
     "execution_count": 35,
     "metadata": {},
     "output_type": "execute_result"
    }
   ],
   "source": [
    "g = \"Mary had a little lamb Little lamb, little lamb Mary had a little lamb \\\n",
    "Its fleece was white as snow And everywhere that Mary went Mary went, Mary went \\\n",
    "Everywhere that Mary went The lamb was sure to go\"\n",
    "g.replace('Mary','Bob')"
   ]
  },
  {
   "cell_type": "code",
   "execution_count": null,
   "id": "5285a852-fbdd-40d8-be40-57a46ca3b8c9",
   "metadata": {},
   "outputs": [],
   "source": []
  }
 ],
 "metadata": {
  "kernelspec": {
   "display_name": "Python",
   "language": "python",
   "name": "conda-env-python-py"
  },
  "language_info": {
   "codemirror_mode": {
    "name": "ipython",
    "version": 3
   },
   "file_extension": ".py",
   "mimetype": "text/x-python",
   "name": "python",
   "nbconvert_exporter": "python",
   "pygments_lexer": "ipython3",
   "version": "3.6.13"
  }
 },
 "nbformat": 4,
 "nbformat_minor": 5
}
